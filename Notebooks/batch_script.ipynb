{
  "nbformat": 4,
  "nbformat_minor": 0,
  "metadata": {
    "colab": {
      "provenance": [],
      "toc_visible": true
    },
    "kernelspec": {
      "name": "python3",
      "display_name": "Python 3"
    },
    "language_info": {
      "name": "python"
    }
  },
  "cells": [
    {
      "cell_type": "code",
      "execution_count": null,
      "metadata": {
        "colab": {
          "base_uri": "https://localhost:8080/"
        },
        "id": "IsxLsS9fi7qQ",
        "outputId": "26f9e862-fda2-40c3-b98c-7086185309ca"
      },
      "outputs": [
        {
          "output_type": "stream",
          "name": "stdout",
          "text": [
            "Mounted at /content/gdrive/\n"
          ]
        }
      ],
      "source": [
        "# Mount Google Drive\n",
        "\n",
        "from google.colab import drive\n",
        "drive.mount('/content/gdrive/', force_remount=True)"
      ]
    },
    {
      "cell_type": "code",
      "source": [
        "import os\n",
        "from tqdm import tqdm\n",
        "\n",
        "import torch\n",
        "import torchvision\n",
        "import torchvision.transforms as transforms\n",
        "import pickle\n",
        "import gc\n",
        "\n",
        "from PIL import Image"
      ],
      "metadata": {
        "id": "JTYlkP6kji65"
      },
      "execution_count": null,
      "outputs": []
    },
    {
      "cell_type": "markdown",
      "source": [
        "### Versão 1.0"
      ],
      "metadata": {
        "id": "fGi8sM6Z5dzt"
      }
    },
    {
      "cell_type": "code",
      "source": [
        "base_dir = '/content/gdrive/Shareddrives/TCC - S09/Notebooks/resized data/'\n",
        "\n",
        "# with open(base_dir + 'BS_2011_2011-10-04_11-38-00_12Hz_2058_600.pkl', 'rb') as f:\n",
        "#     data = pickle.load(f)\n",
        "\n",
        "# with open(base_dir + 'YS_2017_2017-05-13_05-00-00_10Hz_2058_600.pkl', 'rb') as f:\n",
        "#     data = pickle.load(f)\n",
        "\n",
        "with open(base_dir + 'LJ_2018_2018-01-03_09-39-38_10Hz_2058_600.pkl', 'rb') as f:\n",
        "    data = pickle.load(f)"
      ],
      "metadata": {
        "id": "UPIet9hnjquX"
      },
      "execution_count": null,
      "outputs": []
    },
    {
      "cell_type": "code",
      "source": [
        "len(data)"
      ],
      "metadata": {
        "colab": {
          "base_uri": "https://localhost:8080/"
        },
        "id": "7g2R4G_1ncu2",
        "outputId": "305cc181-77e9-446c-ceff-4036df14e630"
      },
      "execution_count": null,
      "outputs": [
        {
          "output_type": "execute_result",
          "data": {
            "text/plain": [
              "1800"
            ]
          },
          "metadata": {},
          "execution_count": 18
        }
      ]
    },
    {
      "cell_type": "code",
      "source": [
        "# Split data into training/test set (80/20)\n",
        "train_size = int(0.8 * len(data))\n",
        "test_size = len(data) - train_size\n",
        "train_set, test_set = torch.utils.data.random_split(data, [train_size, test_size])\n",
        "\n",
        "# Set the labels\n",
        "label = 2\n",
        "train_set = [(x, label) for x in train_set]\n",
        "test_set = [(x, label) for x in test_set]"
      ],
      "metadata": {
        "id": "emkmvb7Xj3NC"
      },
      "execution_count": null,
      "outputs": []
    },
    {
      "cell_type": "code",
      "source": [
        "idx_start = int(train_size/3)\n",
        "idx_end = int(2*train_size/3)\n",
        "\n",
        "with open('/content/gdrive/Shareddrives/TCC - S09/Notebooks/batch data/train_1.pkl', 'wb') as f:\n",
        "    pickle.dump(train_set[:idx_start], f)\n",
        "\n",
        "with open('/content/gdrive/Shareddrives/TCC - S09/Notebooks/batch data/train_2.pkl', 'wb') as f:\n",
        "    pickle.dump(train_set[idx_start:idx_end], f)\n",
        "\n",
        "with open('/content/gdrive/Shareddrives/TCC - S09/Notebooks/batch data/train_3.pkl', 'wb') as f:\n",
        "    pickle.dump(train_set[idx_end:], f)\n",
        "\n",
        "with open('/content/gdrive/Shareddrives/TCC - S09/Notebooks/batch data/val.pkl', 'wb') as f:\n",
        "    pickle.dump(test_set, f)"
      ],
      "metadata": {
        "id": "cF5IeXBClV6Y"
      },
      "execution_count": null,
      "outputs": []
    },
    {
      "cell_type": "code",
      "source": [
        "idx_start = int(train_size/3)\n",
        "idx_end = int(2*train_size/3)\n",
        "\n",
        "with open('/content/gdrive/Shareddrives/TCC - S09/Notebooks/batch data/train_1.pkl', 'rb') as f:\n",
        "    train1 = pickle.load(f)\n",
        "\n",
        "with open('/content/gdrive/Shareddrives/TCC - S09/Notebooks/batch data/train_2.pkl', 'rb') as f:\n",
        "    train2 = pickle.load(f)\n",
        "\n",
        "with open('/content/gdrive/Shareddrives/TCC - S09/Notebooks/batch data/train_3.pkl', 'rb') as f:\n",
        "    train3 = pickle.load(f)\n",
        "\n",
        "with open('/content/gdrive/Shareddrives/TCC - S09/Notebooks/batch data/val.pkl', 'rb') as f:\n",
        "    val = pickle.load(f)\n",
        "\n",
        "with open('/content/gdrive/Shareddrives/TCC - S09/Notebooks/batch data/train_1.pkl', 'wb') as f:\n",
        "    pickle.dump(train1 + train_set[:idx_start], f)\n",
        "\n",
        "with open('/content/gdrive/Shareddrives/TCC - S09/Notebooks/batch data/train_2.pkl', 'wb') as f:\n",
        "    pickle.dump(train2 + train_set[idx_start:idx_end], f)\n",
        "\n",
        "with open('/content/gdrive/Shareddrives/TCC - S09/Notebooks/batch data/train_3.pkl', 'wb') as f:\n",
        "    pickle.dump(train3 + train_set[idx_end:], f)\n",
        "\n",
        "with open('/content/gdrive/Shareddrives/TCC - S09/Notebooks/batch data/val.pkl', 'wb') as f:\n",
        "    pickle.dump(val + test_set, f)"
      ],
      "metadata": {
        "id": "cwnbl-sIoiTC"
      },
      "execution_count": null,
      "outputs": []
    },
    {
      "cell_type": "code",
      "source": [
        "with open('/content/gdrive/Shareddrives/TCC - S09/Notebooks/batch data/train_1.pkl', 'rb') as f:\n",
        "    tr = pickle.load(f)\n",
        "\n",
        "len(tr)"
      ],
      "metadata": {
        "colab": {
          "base_uri": "https://localhost:8080/"
        },
        "id": "E6mV67GcnlbG",
        "outputId": "1d097c8b-86b1-47ec-a7a1-c5e94b3646e1"
      },
      "execution_count": null,
      "outputs": [
        {
          "output_type": "execute_result",
          "data": {
            "text/plain": [
              "959"
            ]
          },
          "metadata": {},
          "execution_count": 21
        }
      ]
    },
    {
      "cell_type": "code",
      "source": [
        "tr[400]\n"
      ],
      "metadata": {
        "colab": {
          "base_uri": "https://localhost:8080/"
        },
        "id": "-VP-9kMmnvc9",
        "outputId": "c58168ae-5ffe-4e49-c7bb-e992b54cb15b"
      },
      "execution_count": null,
      "outputs": [
        {
          "output_type": "execute_result",
          "data": {
            "text/plain": [
              "(<PIL.Image.Image image mode=RGB size=600x600 at 0x7F88229E0A90>, 1)"
            ]
          },
          "metadata": {},
          "execution_count": 24
        }
      ]
    },
    {
      "cell_type": "markdown",
      "source": [
        "### Versão 2.0"
      ],
      "metadata": {
        "id": "qKF9dgyF5j1z"
      }
    },
    {
      "cell_type": "code",
      "source": [
        "base_dir = '/content/gdrive/Shareddrives/TCC - S09/Notebooks/resized data/'\n",
        "\n",
        "datasets = ['AA_2014_2014-03-27_09-10-00_12Hz_2058_600.pkl', 'YS_2017_2017-05-13_05-00-00_10Hz_2058_600.pkl', 'BS_2011_2011-10-01_16-18-00_15Hz_2058_600.pkl',\n",
        "            'BS_2011_2011-10-04_11-38-00_12Hz_2058_600.pkl', 'BS_2011_2011-10-04_13-07-00_12Hz_2058_600.pkl', 'BS_2013_2013-09-25_12-15-01_12Hz_2058_600.pkl',\n",
        "            'LJ_2018_2018-01-03_09-39-38_10Hz_2058_600.pkl']\n",
        "labels = [1, 1, 0, 0, 0, 0, 2]\n",
        "\n",
        "nb_train = 6\n",
        "nb_val = 2\n",
        "\n",
        "for i in range(len(datasets)):\n",
        "  print(f'{datasets[i]} \\n')\n",
        "  with open(base_dir + datasets[i], 'rb') as f:\n",
        "    data = pickle.load(f)\n",
        "\n",
        "  # Split data into training/test set (80/20)\n",
        "  train_size = int(0.8 * len(data))\n",
        "  val_size = len(data) - train_size\n",
        "  train_set, val_set = torch.utils.data.random_split(data, [train_size, val_size])\n",
        "\n",
        "  del data\n",
        "  gc.collect()\n",
        "\n",
        "  # Set the labels\n",
        "  label = labels[i]\n",
        "  train_set = [(x, label) for x in train_set]\n",
        "  val_set = [(x, label) for x in val_set]\n",
        "\n",
        "  # Train set\n",
        "  print('train \\n')\n",
        "  if nb_train != 1:\n",
        "    step = int(train_size/nb_train)\n",
        "    idx_start = 0\n",
        "    idx_end = int(train_size/nb_train)\n",
        "\n",
        "    for j in range(nb_train-1):\n",
        "      print(f'j: {j}, idx_start: {idx_start}, idx_end: {idx_end} \\n')\n",
        "      if i == 0:\n",
        "        with open(f'/content/gdrive/Shareddrives/TCC - S09/Notebooks/batch data/leave out test/train_{j+1}.pkl', 'wb') as f:\n",
        "          pickle.dump(train_set[idx_start:idx_end], f)\n",
        "      \n",
        "      else:\n",
        "        with open(f'/content/gdrive/Shareddrives/TCC - S09/Notebooks/batch data/leave out test/train_{j+1}.pkl', 'rb') as f:\n",
        "          train = pickle.load(f)\n",
        "\n",
        "        with open(f'/content/gdrive/Shareddrives/TCC - S09/Notebooks/batch data/leave out test/train_{j+1}.pkl', 'wb') as f:\n",
        "          pickle.dump(train + train_set[idx_start:idx_end], f)\n",
        "      \n",
        "        del train\n",
        "        gc.collect()\n",
        "\n",
        "      idx_start = idx_end\n",
        "      idx_end += step\n",
        "\n",
        "\n",
        "    # Last part\n",
        "    print(f'j: last part, idx_start: {idx_start}, idx_end: {idx_end} \\n')\n",
        "    if i == 0:\n",
        "        with open(f'/content/gdrive/Shareddrives/TCC - S09/Notebooks/batch data/leave out test/train_{nb_train}.pkl', 'wb') as f:\n",
        "          pickle.dump(train_set[idx_start:], f)\n",
        "\n",
        "    else:\n",
        "      with open(f'/content/gdrive/Shareddrives/TCC - S09/Notebooks/batch data/leave out test/train_{nb_train}.pkl', 'rb') as f:\n",
        "        last = pickle.load(f)\n",
        "\n",
        "      with open(f'/content/gdrive/Shareddrives/TCC - S09/Notebooks/batch data/leave out test/train_{nb_train}.pkl', 'wb') as f:\n",
        "        pickle.dump(last + train_set[idx_start:], f)\n",
        "\n",
        "      del last\n",
        "      gc.collect()\n",
        "  \n",
        "  else:\n",
        "    if i == 0:\n",
        "      with open(f'/content/gdrive/Shareddrives/TCC - S09/Notebooks/batch data/leave out test/train.pkl', 'wb') as f:\n",
        "        pickle.dump(train_set, f)\n",
        "    \n",
        "    else:\n",
        "      with open(f'/content/gdrive/Shareddrives/TCC - S09/Notebooks/batch data/leave out test/train.pkl', 'rb') as f:\n",
        "        train = pickle.load(f)\n",
        "\n",
        "      with open(f'/content/gdrive/Shareddrives/TCC - S09/Notebooks/batch data/leave out test/train.pkl', 'wb') as f:\n",
        "        pickle.dump(train + train_set, f)\n",
        "      \n",
        "      del train\n",
        "      gc.collect()\n",
        "\n",
        "  # Validation set\n",
        "  print('validation \\n')\n",
        "  if nb_val != 1:\n",
        "    step = int(val_size/nb_val)\n",
        "    idx_start = 0\n",
        "    idx_end = int(val_size/nb_val)\n",
        "\n",
        "    \n",
        "    for j in tqdm(range(nb_val-1)):\n",
        "      print(f'j: {j}, idx_start: {idx_start}, idx_end: {idx_end} \\n')\n",
        "      if i == 0:\n",
        "        with open(f'/content/gdrive/Shareddrives/TCC - S09/Notebooks/batch data/leave out test/val_{j+1}.pkl', 'wb') as f:\n",
        "          pickle.dump(val_set[idx_start:idx_end], f)\n",
        "      \n",
        "      else:\n",
        "        with open(f'/content/gdrive/Shareddrives/TCC - S09/Notebooks/batch data/leave out test/val_{j+1}.pkl', 'rb') as f:\n",
        "          val = pickle.load(f)\n",
        "\n",
        "        with open(f'/content/gdrive/Shareddrives/TCC - S09/Notebooks/batch data/leave out test/val_{j+1}.pkl', 'wb') as f:\n",
        "          pickle.dump(val + val_set[idx_start:idx_end], f)\n",
        "      \n",
        "        del val\n",
        "        gc.collect()\n",
        "\n",
        "      idx_start = idx_end\n",
        "      idx_end += step\n",
        "\n",
        "\n",
        "    # Last part\n",
        "    print(f'j: last part, idx_start: {idx_start}, idx_end: {idx_end} \\n')\n",
        "    if i == 0:\n",
        "      with open(f'/content/gdrive/Shareddrives/TCC - S09/Notebooks/batch data/leave out test/val_{nb_val}.pkl', 'wb') as f:\n",
        "          pickle.dump(val_set[idx_start:], f)\n",
        "    else:\n",
        "      with open(f'/content/gdrive/Shareddrives/TCC - S09/Notebooks/batch data/leave out test/val_{nb_val}.pkl', 'rb') as f:\n",
        "        last = pickle.load(f)\n",
        "\n",
        "      with open(f'/content/gdrive/Shareddrives/TCC - S09/Notebooks/batch data/leave out test/val_{nb_val}.pkl', 'wb') as f:\n",
        "        pickle.dump(last + val_set[idx_start:], f)\n",
        "\n",
        "      del last\n",
        "      gc.collect()\n",
        "  \n",
        "  else:\n",
        "    if i == 0:\n",
        "      with open(f'/content/gdrive/Shareddrives/TCC - S09/Notebooks/batch data/leave out test/val.pkl', 'wb') as f:\n",
        "        pickle.dump(val_set, f)\n",
        "    \n",
        "    else:\n",
        "      with open(f'/content/gdrive/Shareddrives/TCC - S09/Notebooks/batch data/leave out test/val.pkl', 'rb') as f:\n",
        "        val = pickle.load(f)\n",
        "\n",
        "      with open(f'/content/gdrive/Shareddrives/TCC - S09/Notebooks/batch data/leave out test/val.pkl', 'wb') as f:\n",
        "        pickle.dump(val + val_set, f)\n",
        "\n",
        "      del val\n",
        "      gc.collect()"
      ],
      "metadata": {
        "id": "OiyZwl62nx6T",
        "colab": {
          "base_uri": "https://localhost:8080/"
        },
        "outputId": "421e6254-ef40-4760-e228-7bb8eee0a859"
      },
      "execution_count": null,
      "outputs": [
        {
          "output_type": "stream",
          "name": "stdout",
          "text": [
            "AA_2014_2014-03-27_09-10-00_12Hz_2058_600.pkl \n",
            "\n",
            "train \n",
            "\n",
            "j: 0, idx_start: 0, idx_end: 479 \n",
            "\n",
            "j: 1, idx_start: 479, idx_end: 958 \n",
            "\n",
            "j: 2, idx_start: 958, idx_end: 1437 \n",
            "\n",
            "j: 3, idx_start: 1437, idx_end: 1916 \n",
            "\n",
            "j: 4, idx_start: 1916, idx_end: 2395 \n",
            "\n",
            "j: last part, idx_start: 2395, idx_end: 2874 \n",
            "\n",
            "validation \n",
            "\n"
          ]
        },
        {
          "output_type": "stream",
          "name": "stderr",
          "text": [
            "\r  0%|          | 0/1 [00:00<?, ?it/s]"
          ]
        },
        {
          "output_type": "stream",
          "name": "stdout",
          "text": [
            "j: 0, idx_start: 0, idx_end: 360 \n",
            "\n"
          ]
        },
        {
          "output_type": "stream",
          "name": "stderr",
          "text": [
            "100%|██████████| 1/1 [00:04<00:00,  4.28s/it]\n"
          ]
        },
        {
          "output_type": "stream",
          "name": "stdout",
          "text": [
            "j: last part, idx_start: 360, idx_end: 720 \n",
            "\n",
            "YS_2017_2017-05-13_05-00-00_10Hz_2058_600.pkl \n",
            "\n",
            "train \n",
            "\n",
            "j: 0, idx_start: 0, idx_end: 80 \n",
            "\n",
            "j: 1, idx_start: 80, idx_end: 160 \n",
            "\n",
            "j: 2, idx_start: 160, idx_end: 240 \n",
            "\n",
            "j: 3, idx_start: 240, idx_end: 320 \n",
            "\n",
            "j: 4, idx_start: 320, idx_end: 400 \n",
            "\n",
            "j: last part, idx_start: 400, idx_end: 480 \n",
            "\n",
            "validation \n",
            "\n"
          ]
        },
        {
          "output_type": "stream",
          "name": "stderr",
          "text": [
            "\r  0%|          | 0/1 [00:00<?, ?it/s]"
          ]
        },
        {
          "output_type": "stream",
          "name": "stdout",
          "text": [
            "j: 0, idx_start: 0, idx_end: 60 \n",
            "\n"
          ]
        },
        {
          "output_type": "stream",
          "name": "stderr",
          "text": [
            "100%|██████████| 1/1 [00:06<00:00,  6.18s/it]\n"
          ]
        },
        {
          "output_type": "stream",
          "name": "stdout",
          "text": [
            "j: last part, idx_start: 60, idx_end: 120 \n",
            "\n",
            "BS_2011_2011-10-01_16-18-00_15Hz_2058_600.pkl \n",
            "\n",
            "train \n",
            "\n",
            "j: 0, idx_start: 0, idx_end: 96 \n",
            "\n",
            "j: 1, idx_start: 96, idx_end: 192 \n",
            "\n",
            "j: 2, idx_start: 192, idx_end: 288 \n",
            "\n",
            "j: 3, idx_start: 288, idx_end: 384 \n",
            "\n",
            "j: 4, idx_start: 384, idx_end: 480 \n",
            "\n",
            "j: last part, idx_start: 480, idx_end: 576 \n",
            "\n",
            "validation \n",
            "\n"
          ]
        },
        {
          "output_type": "stream",
          "name": "stderr",
          "text": [
            "\r  0%|          | 0/1 [00:00<?, ?it/s]"
          ]
        },
        {
          "output_type": "stream",
          "name": "stdout",
          "text": [
            "j: 0, idx_start: 0, idx_end: 72 \n",
            "\n"
          ]
        },
        {
          "output_type": "stream",
          "name": "stderr",
          "text": [
            "100%|██████████| 1/1 [00:07<00:00,  7.25s/it]\n"
          ]
        },
        {
          "output_type": "stream",
          "name": "stdout",
          "text": [
            "j: last part, idx_start: 72, idx_end: 144 \n",
            "\n",
            "BS_2011_2011-10-04_11-38-00_12Hz_2058_600.pkl \n",
            "\n",
            "train \n",
            "\n",
            "j: 0, idx_start: 0, idx_end: 159 \n",
            "\n",
            "j: 1, idx_start: 159, idx_end: 318 \n",
            "\n",
            "j: 2, idx_start: 318, idx_end: 477 \n",
            "\n",
            "j: 3, idx_start: 477, idx_end: 636 \n",
            "\n",
            "j: 4, idx_start: 636, idx_end: 795 \n",
            "\n",
            "j: last part, idx_start: 795, idx_end: 954 \n",
            "\n",
            "validation \n",
            "\n"
          ]
        },
        {
          "output_type": "stream",
          "name": "stderr",
          "text": [
            "\r  0%|          | 0/1 [00:00<?, ?it/s]"
          ]
        },
        {
          "output_type": "stream",
          "name": "stdout",
          "text": [
            "j: 0, idx_start: 0, idx_end: 120 \n",
            "\n"
          ]
        },
        {
          "output_type": "stream",
          "name": "stderr",
          "text": [
            "100%|██████████| 1/1 [00:10<00:00, 10.64s/it]\n"
          ]
        },
        {
          "output_type": "stream",
          "name": "stdout",
          "text": [
            "j: last part, idx_start: 120, idx_end: 240 \n",
            "\n",
            "BS_2011_2011-10-04_13-07-00_12Hz_2058_600.pkl \n",
            "\n",
            "train \n",
            "\n",
            "j: 0, idx_start: 0, idx_end: 239 \n",
            "\n",
            "j: 1, idx_start: 239, idx_end: 478 \n",
            "\n",
            "j: 2, idx_start: 478, idx_end: 717 \n",
            "\n",
            "j: 3, idx_start: 717, idx_end: 956 \n",
            "\n",
            "j: 4, idx_start: 956, idx_end: 1195 \n",
            "\n",
            "j: last part, idx_start: 1195, idx_end: 1434 \n",
            "\n",
            "validation \n",
            "\n"
          ]
        },
        {
          "output_type": "stream",
          "name": "stderr",
          "text": [
            "\r  0%|          | 0/1 [00:00<?, ?it/s]"
          ]
        },
        {
          "output_type": "stream",
          "name": "stdout",
          "text": [
            "j: 0, idx_start: 0, idx_end: 180 \n",
            "\n"
          ]
        },
        {
          "output_type": "stream",
          "name": "stderr",
          "text": [
            "100%|██████████| 1/1 [00:12<00:00, 12.10s/it]\n"
          ]
        },
        {
          "output_type": "stream",
          "name": "stdout",
          "text": [
            "j: last part, idx_start: 180, idx_end: 360 \n",
            "\n",
            "BS_2013_2013-09-25_12-15-01_12Hz_2058_600.pkl \n",
            "\n",
            "train \n",
            "\n",
            "j: 0, idx_start: 0, idx_end: 239 \n",
            "\n",
            "j: 1, idx_start: 239, idx_end: 478 \n",
            "\n",
            "j: 2, idx_start: 478, idx_end: 717 \n",
            "\n",
            "j: 3, idx_start: 717, idx_end: 956 \n",
            "\n",
            "j: 4, idx_start: 956, idx_end: 1195 \n",
            "\n",
            "j: last part, idx_start: 1195, idx_end: 1434 \n",
            "\n",
            "validation \n",
            "\n"
          ]
        },
        {
          "output_type": "stream",
          "name": "stderr",
          "text": [
            "\r  0%|          | 0/1 [00:00<?, ?it/s]"
          ]
        },
        {
          "output_type": "stream",
          "name": "stdout",
          "text": [
            "j: 0, idx_start: 0, idx_end: 180 \n",
            "\n"
          ]
        },
        {
          "output_type": "stream",
          "name": "stderr",
          "text": [
            "100%|██████████| 1/1 [00:13<00:00, 13.73s/it]\n"
          ]
        },
        {
          "output_type": "stream",
          "name": "stdout",
          "text": [
            "j: last part, idx_start: 180, idx_end: 360 \n",
            "\n",
            "LJ_2018_2018-01-03_09-39-38_10Hz_2058_600.pkl \n",
            "\n",
            "train \n",
            "\n",
            "j: 0, idx_start: 0, idx_end: 240 \n",
            "\n",
            "j: 1, idx_start: 240, idx_end: 480 \n",
            "\n",
            "j: 2, idx_start: 480, idx_end: 720 \n",
            "\n",
            "j: 3, idx_start: 720, idx_end: 960 \n",
            "\n",
            "j: 4, idx_start: 960, idx_end: 1200 \n",
            "\n",
            "j: last part, idx_start: 1200, idx_end: 1440 \n",
            "\n",
            "validation \n",
            "\n"
          ]
        },
        {
          "output_type": "stream",
          "name": "stderr",
          "text": [
            "\r  0%|          | 0/1 [00:00<?, ?it/s]"
          ]
        },
        {
          "output_type": "stream",
          "name": "stdout",
          "text": [
            "j: 0, idx_start: 0, idx_end: 180 \n",
            "\n"
          ]
        },
        {
          "output_type": "stream",
          "name": "stderr",
          "text": [
            "100%|██████████| 1/1 [00:18<00:00, 18.25s/it]\n"
          ]
        },
        {
          "output_type": "stream",
          "name": "stdout",
          "text": [
            "j: last part, idx_start: 180, idx_end: 360 \n",
            "\n"
          ]
        }
      ]
    },
    {
      "cell_type": "code",
      "source": [
        "with open(f'/content/gdrive/Shareddrives/TCC - S09/Notebooks/batch data/leave out test/val_1.pkl', 'rb') as f:\n",
        "  val = pickle.load(f)\n",
        "\n",
        "len(val)"
      ],
      "metadata": {
        "colab": {
          "base_uri": "https://localhost:8080/"
        },
        "id": "q5wntzbEZJdA",
        "outputId": "819d5334-37fe-4601-ad54-3783c77cd7c2"
      },
      "execution_count": null,
      "outputs": [
        {
          "output_type": "execute_result",
          "data": {
            "text/plain": [
              "1152"
            ]
          },
          "metadata": {},
          "execution_count": 5
        }
      ]
    },
    {
      "cell_type": "code",
      "source": [
        "val[50]"
      ],
      "metadata": {
        "colab": {
          "base_uri": "https://localhost:8080/"
        },
        "id": "lOa25FDQ2R8J",
        "outputId": "c9aa79c1-ea3b-434a-eddd-83ed917edd23"
      },
      "execution_count": null,
      "outputs": [
        {
          "output_type": "execute_result",
          "data": {
            "text/plain": [
              "(<PIL.Image.Image image mode=RGB size=600x600 at 0x7FABB9CC24D0>, 1)"
            ]
          },
          "metadata": {},
          "execution_count": 6
        }
      ]
    },
    {
      "cell_type": "code",
      "source": [],
      "metadata": {
        "id": "A-SrZfSD2Stv"
      },
      "execution_count": null,
      "outputs": []
    }
  ]
}